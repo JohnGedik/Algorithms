{
 "cells": [
  {
   "cell_type": "markdown",
   "metadata": {},
   "source": [
    "# Binary Tree algorithms"
   ]
  },
  {
   "cell_type": "markdown",
   "metadata": {
    "collapsed": true
   },
   "source": [
    "## Height of a binary Tree"
   ]
  },
  {
   "cell_type": "code",
   "execution_count": null,
   "metadata": {
    "collapsed": false
   },
   "outputs": [],
   "source": [
    "int Tree::height(tree *node) {\n",
    "    if (!node) return -1;\n",
    "\n",
    "    return 1 + max(height(node->left), height(node->right));\n",
    "}"
   ]
  },
  {
   "cell_type": "markdown",
   "metadata": {},
   "source": [
    "## Top View"
   ]
  },
  {
   "cell_type": "code",
   "execution_count": null,
   "metadata": {
    "collapsed": false
   },
   "outputs": [],
   "source": [
    "static void top_view_post_order(node* root)\n",
    "{\n",
    "    if (!root) return;\n",
    "\n",
    "    top_view_post_order(root->left);\n",
    "    cout << root->data << \" \";\n",
    "}\n",
    "\n",
    "static void top_view_pre_order(node* root)\n",
    "{\n",
    "    if (!root) return;\n",
    "\n",
    "    cout << root->data << \" \";\n",
    "    top_view_pre_order(root->right);\n",
    "}\n",
    "\n",
    "void top_view(node * root)\n",
    "{\n",
    "    top_view_post_order(root);\n",
    "    top_view_pre_order(root->right);\n",
    "}"
   ]
  },
  {
   "cell_type": "markdown",
   "metadata": {},
   "source": [
    "## Level Order"
   ]
  },
  {
   "cell_type": "code",
   "execution_count": null,
   "metadata": {
    "collapsed": true
   },
   "outputs": [],
   "source": [
    "struct Node\n",
    "{\n",
    "    char data;\n",
    "    Node* left;\n",
    "    Node* right;\n",
    "};\n",
    "void LevelOrder(Node* root)\n",
    "{\n",
    "    if(root == NULL) return;\n",
    "    queue<Node*> Q;\n",
    "    Q.push(root);\n",
    "    while(!Q.empty())\n",
    "    {\n",
    "        Node* current = Q.front();\n",
    "        cout<< current->data << \" \";\n",
    "        if(current->left != NULL) Q.push(current->left);\n",
    "        if(current->right != NULL) Q.push(current->right);\n",
    "        Q.pop();\n",
    "    }\n",
    "}\n"
   ]
  }
 ],
 "metadata": {
  "anaconda-cloud": {},
  "kernelspec": {
   "display_name": "Python [conda root]",
   "language": "python",
   "name": "conda-root-py"
  },
  "language_info": {
   "codemirror_mode": {
    "name": "ipython",
    "version": 3
   },
   "file_extension": ".py",
   "mimetype": "text/x-python",
   "name": "python",
   "nbconvert_exporter": "python",
   "pygments_lexer": "ipython3",
   "version": "3.5.2"
  }
 },
 "nbformat": 4,
 "nbformat_minor": 1
}
